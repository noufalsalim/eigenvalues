{
  "nbformat": 4,
  "nbformat_minor": 0,
  "metadata": {
    "colab": {
      "name": "Eigen value and eigen vectors.ipynb",
      "provenance": [],
      "collapsed_sections": []
    },
    "kernelspec": {
      "name": "python3",
      "display_name": "Python 3"
    }
  },
  "cells": [
    {
      "cell_type": "markdown",
      "metadata": {
        "id": "xaeoZdPSamoQ"
      },
      "source": [
        "## Eigenvalues and Eigenvectors"
      ]
    },
    {
      "cell_type": "markdown",
      "metadata": {
        "id": "JviBVoEOagtR"
      },
      "source": [
        "### Learning to obtain eigenvalues and eigenvectors using python."
      ]
    },
    {
      "cell_type": "markdown",
      "metadata": {
        "id": "4N8X6CNSawQf"
      },
      "source": [
        "#### [4,3,2],[1,4,1],[3,10,4]"
      ]
    },
    {
      "cell_type": "code",
      "metadata": {
        "id": "VH6e5jN5akMp",
        "outputId": "59de4021-87f8-4f2e-e1da-4631bcdbe509",
        "colab": {
          "base_uri": "https://localhost:8080/",
          "height": 225
        }
      },
      "source": [
        "import numpy as np\n",
        "I=np.array([[4,3,2],[1,4,1],[3,10,4]])\n",
        "print(\"#### input matrix\")\n",
        "print(I)\n",
        "print()\n",
        "x=np.linalg.eigvals(I)\n",
        "y=np.linalg.eig(I)\n",
        "print(\"#### Eigen values\")\n",
        "print(x)\n",
        "print()\n",
        "print(\"#### Eigen vectors\")\n",
        "print(y)"
      ],
      "execution_count": 5,
      "outputs": [
        {
          "output_type": "stream",
          "text": [
            "#### input matrix\n",
            "[[ 4  3  2]\n",
            " [ 1  4  1]\n",
            " [ 3 10  4]]\n",
            "\n",
            "#### Eigen values\n",
            "[8.98205672 2.12891771 0.88902557]\n",
            "\n",
            "#### Eigen vectors\n",
            "(array([8.98205672, 2.12891771, 0.88902557]), array([[-0.49247712, -0.82039552, -0.42973429],\n",
            "       [-0.26523242,  0.14250681, -0.14817858],\n",
            "       [-0.82892584,  0.55375355,  0.89071407]]))\n"
          ],
          "name": "stdout"
        }
      ]
    },
    {
      "cell_type": "markdown",
      "metadata": {
        "id": "NCKURH93crmE"
      },
      "source": [
        "#### [1,-3,3],[3,-5,3],[6,-6,4]"
      ]
    },
    {
      "cell_type": "code",
      "metadata": {
        "id": "swuDMxbqbkEo",
        "outputId": "aaf7e2dd-4daa-4598-fcef-459b3fc70822",
        "colab": {
          "base_uri": "https://localhost:8080/",
          "height": 278
        }
      },
      "source": [
        "import numpy as np\n",
        "I=np.array([[1,-3,3],[3,-5,3],[6,-6,4]])\n",
        "print(\"#### input matrix\")\n",
        "print(I)\n",
        "print()\n",
        "x=np.linalg.eigvals(I)\n",
        "y=np.linalg.eig(I)\n",
        "print(\"#### Eigen values\")\n",
        "print(x)\n",
        "print()\n",
        "print(\"#### Eigen vectors\")\n",
        "print(y)"
      ],
      "execution_count": 6,
      "outputs": [
        {
          "output_type": "stream",
          "text": [
            "#### input matrix\n",
            "[[ 1 -3  3]\n",
            " [ 3 -5  3]\n",
            " [ 6 -6  4]]\n",
            "\n",
            "#### Eigen values\n",
            "[ 4.+0.00000000e+00j -2.+1.10465796e-15j -2.-1.10465796e-15j]\n",
            "\n",
            "#### Eigen vectors\n",
            "(array([ 4.+0.00000000e+00j, -2.+1.10465796e-15j, -2.-1.10465796e-15j]), array([[-0.40824829+0.j        ,  0.24400118-0.40702229j,\n",
            "         0.24400118+0.40702229j],\n",
            "       [-0.40824829+0.j        , -0.41621909-0.40702229j,\n",
            "        -0.41621909+0.40702229j],\n",
            "       [-0.81649658+0.j        , -0.66022027+0.j        ,\n",
            "        -0.66022027-0.j        ]]))\n"
          ],
          "name": "stdout"
        }
      ]
    },
    {
      "cell_type": "markdown",
      "metadata": {
        "id": "KDsS315CdCHY"
      },
      "source": [
        "### Properties of eigenvalues and eigenvectors:\n",
        "1. For a nxn matrix, the number of eigen values is n.\n",
        "2. The sum of eigen values is equal to the sum of the diagonal elements of matrix.\n",
        "3. The product of eigenvalues is equal to the determinant of the matrix.\n",
        "4. The eigen value for an identity matrix is 1.\n",
        "5. The eigenvalue of a triangular matrix is same as the diagonal elements of a matrix.\n",
        "6. For a skew symmetric matrix, the eigenvalues are imaginary.\n",
        "7. For orthogonal matrix eigenvalues is 1.(Orthogonal matrix---> A.(A)ˆt=I).\n",
        "8. For indempotent matrix the eigenvalues are 0 and 1(Aˆ2=identity matrix)."
      ]
    },
    {
      "cell_type": "code",
      "metadata": {
        "id": "FALmYlQSdYh1"
      },
      "source": [
        "import math\n",
        "from math import *\n",
        "import numpy as np\n",
        "from numpy import *"
      ],
      "execution_count": 7,
      "outputs": []
    },
    {
      "cell_type": "markdown",
      "metadata": {
        "id": "0CCyXaBneUqN"
      },
      "source": [
        "#### property 2"
      ]
    },
    {
      "cell_type": "code",
      "metadata": {
        "id": "GMfu-o7-dxjk",
        "outputId": "9613c0fa-f2f6-4f62-ead3-a719e719c844",
        "colab": {
          "base_uri": "https://localhost:8080/",
          "height": 243
        }
      },
      "source": [
        "A=array([[1,2,3],[2,3,5],[3,1,1]])\n",
        "print(\"#### Input matrix\")\n",
        "print(A)\n",
        "print()\n",
        "X=A[0][0]+A[1][1]+A[2][2]\n",
        "print(\"#### X\")\n",
        "print(X)\n",
        "print()\n",
        "Y=sum(linalg.eigvals(A))\n",
        "Z=round(Y)\n",
        "print(\"#### Z\")\n",
        "print(Z)\n",
        "print()\n",
        "print(\"The sum of eigen values is equal to the sum of the diagonal elements of matrix\")\n",
        "equal(X,Z)"
      ],
      "execution_count": 10,
      "outputs": [
        {
          "output_type": "stream",
          "text": [
            "#### Input matrix\n",
            "[[1 2 3]\n",
            " [2 3 5]\n",
            " [3 1 1]]\n",
            "\n",
            "#### X\n",
            "5\n",
            "\n",
            "#### Z\n",
            "5\n",
            "\n",
            "The sum of eigen values is equal to the sum of the diagonal elements of matrix\n"
          ],
          "name": "stdout"
        },
        {
          "output_type": "execute_result",
          "data": {
            "text/plain": [
              "True"
            ]
          },
          "metadata": {
            "tags": []
          },
          "execution_count": 10
        }
      ]
    },
    {
      "cell_type": "markdown",
      "metadata": {
        "id": "RV8DfKcmeqxY"
      },
      "source": [
        "Property 2 is verified."
      ]
    },
    {
      "cell_type": "markdown",
      "metadata": {
        "id": "rNWoSU3BeZ45"
      },
      "source": [
        "#### property 3"
      ]
    },
    {
      "cell_type": "code",
      "metadata": {
        "id": "9UCXV4oGeeNY",
        "outputId": "308b8df9-7be1-4f21-84ae-e2e0dc9679c0",
        "colab": {
          "base_uri": "https://localhost:8080/",
          "height": 243
        }
      },
      "source": [
        "B=array([[1,2,3],[1,3,5],[4,1,2]])\n",
        "print(\"#### B\")\n",
        "print(B)\n",
        "print()\n",
        "M=linalg.det(B)\n",
        "print(\"#### M\")\n",
        "print(M)\n",
        "print()\n",
        "Q=prod(linalg.eigvals(B))\n",
        "P=np.round(Q)\n",
        "print(\"#### P\")\n",
        "print(P)\n",
        "print()\n",
        "print(\"The product of eigenvalues is equal to the determinant of the matrix.\")\n",
        "equal(P,M)"
      ],
      "execution_count": 12,
      "outputs": [
        {
          "output_type": "stream",
          "text": [
            "#### B\n",
            "[[1 2 3]\n",
            " [1 3 5]\n",
            " [4 1 2]]\n",
            "\n",
            "#### M\n",
            "4.000000000000002\n",
            "\n",
            "#### P\n",
            "(4+0j)\n",
            "\n",
            "The product of eigenvalues is equal to the determinant of the matrix.\n"
          ],
          "name": "stdout"
        },
        {
          "output_type": "execute_result",
          "data": {
            "text/plain": [
              "False"
            ]
          },
          "metadata": {
            "tags": []
          },
          "execution_count": 12
        }
      ]
    },
    {
      "cell_type": "markdown",
      "metadata": {
        "id": "VidtsRMsem34"
      },
      "source": [
        "Property 3 is verified."
      ]
    },
    {
      "cell_type": "markdown",
      "metadata": {
        "id": "zrBIJZefeuwU"
      },
      "source": [
        "#### Property 4"
      ]
    },
    {
      "cell_type": "code",
      "metadata": {
        "id": "CxhzXjKrencm",
        "outputId": "a7472221-42b6-4981-ad41-d143bca098c7",
        "colab": {
          "base_uri": "https://localhost:8080/",
          "height": 139
        }
      },
      "source": [
        "I=array([[1,0,0],[0,1,0],[0,0,1]])\n",
        "print(\"#### Input matrix\")\n",
        "print(I)\n",
        "print()\n",
        "print(\"The eigen value for an identity matrix is 1\")\n",
        "linalg.eigvals(I)"
      ],
      "execution_count": 15,
      "outputs": [
        {
          "output_type": "stream",
          "text": [
            "#### Input matrix\n",
            "[[1 0 0]\n",
            " [0 1 0]\n",
            " [0 0 1]]\n",
            "\n",
            "The eigen value for an identity matrix is 1\n"
          ],
          "name": "stdout"
        },
        {
          "output_type": "execute_result",
          "data": {
            "text/plain": [
              "array([1., 1., 1.])"
            ]
          },
          "metadata": {
            "tags": []
          },
          "execution_count": 15
        }
      ]
    },
    {
      "cell_type": "markdown",
      "metadata": {
        "id": "sGixn79Ve9sS"
      },
      "source": [
        "Property 4 is verified."
      ]
    },
    {
      "cell_type": "markdown",
      "metadata": {
        "id": "pXEWOQaRfQUZ"
      },
      "source": [
        "#### Property 5"
      ]
    },
    {
      "cell_type": "code",
      "metadata": {
        "id": "Hh9j-vw5e-W7",
        "outputId": "7310724c-e500-4266-c224-355db4b1a5e8",
        "colab": {
          "base_uri": "https://localhost:8080/",
          "height": 139
        }
      },
      "source": [
        "T=array([[4,0,0],[2,3,0],[1,2,3]])\n",
        "print(\"#### Input matrix\")\n",
        "print(T)\n",
        "print()\n",
        "print(\"The eigenvalue of a triangular matrix is same as the diagonal elements of the matrix.\")\n",
        "linalg.eigvals(T)"
      ],
      "execution_count": 18,
      "outputs": [
        {
          "output_type": "stream",
          "text": [
            "#### Input matrix\n",
            "[[4 0 0]\n",
            " [2 3 0]\n",
            " [1 2 3]]\n",
            "\n",
            "The eigenvalue of a triangular matrix is same as the diagonal elements of the matrix.\n"
          ],
          "name": "stdout"
        },
        {
          "output_type": "execute_result",
          "data": {
            "text/plain": [
              "array([3., 3., 4.])"
            ]
          },
          "metadata": {
            "tags": []
          },
          "execution_count": 18
        }
      ]
    },
    {
      "cell_type": "markdown",
      "metadata": {
        "id": "6Tab08t_fWip"
      },
      "source": [
        "Property 5 is verified"
      ]
    },
    {
      "cell_type": "markdown",
      "metadata": {
        "id": "qNHZoWAcfc7_"
      },
      "source": [
        "#### Property 6"
      ]
    },
    {
      "cell_type": "code",
      "metadata": {
        "id": "W2BEjH60fXHL",
        "outputId": "e946be0e-5d39-470f-d1e8-32f445d1f806",
        "colab": {
          "base_uri": "https://localhost:8080/",
          "height": 139
        }
      },
      "source": [
        "E=(B-B.transpose())/2\n",
        "print(\"#### skew matrix\")\n",
        "print(E)\n",
        "print()\n",
        "print(\"For a skew symmetric matrix, the eigenvalues are imaginary.\")\n",
        "linalg.eigvals(E)"
      ],
      "execution_count": 19,
      "outputs": [
        {
          "output_type": "stream",
          "text": [
            "#### skew matrix\n",
            "[[ 0.   0.5 -0.5]\n",
            " [-0.5  0.   2. ]\n",
            " [ 0.5 -2.   0. ]]\n",
            "\n",
            "For a skew symmetric matrix, the eigenvalues are imaginary.\n"
          ],
          "name": "stdout"
        },
        {
          "output_type": "execute_result",
          "data": {
            "text/plain": [
              "array([0.+0.j        , 0.+2.12132034j, 0.-2.12132034j])"
            ]
          },
          "metadata": {
            "tags": []
          },
          "execution_count": 19
        }
      ]
    },
    {
      "cell_type": "markdown",
      "metadata": {
        "id": "8XdKxVd5f-Ug"
      },
      "source": [
        "Property 6 is verified."
      ]
    },
    {
      "cell_type": "markdown",
      "metadata": {
        "id": "rGxqUMXcgBOK"
      },
      "source": [
        "#### Property 7"
      ]
    },
    {
      "cell_type": "code",
      "metadata": {
        "id": "71wN9cIUgCXs",
        "outputId": "8507dc8d-26b1-4894-b4af-cc210044c6a7",
        "colab": {
          "base_uri": "https://localhost:8080/",
          "height": 121
        }
      },
      "source": [
        "F=array([[1,0],[0,-1]])\n",
        "print(\"#### orthogonal matrix\")\n",
        "print(F)\n",
        "print()\n",
        "print(\"For orthogonal matrix eigenvalues is 1.(Orthogonal matrix---> A.(A)ˆt=I).\")\n",
        "linalg.eigvals(F)"
      ],
      "execution_count": 20,
      "outputs": [
        {
          "output_type": "stream",
          "text": [
            "#### orthogonal matrix\n",
            "[[ 1  0]\n",
            " [ 0 -1]]\n",
            "\n",
            "For orthogonal matrix eigenvalues is 1.(Orthogonal matrix---> A.(A)ˆt=I).\n"
          ],
          "name": "stdout"
        },
        {
          "output_type": "execute_result",
          "data": {
            "text/plain": [
              "array([ 1., -1.])"
            ]
          },
          "metadata": {
            "tags": []
          },
          "execution_count": 20
        }
      ]
    },
    {
      "cell_type": "markdown",
      "metadata": {
        "id": "Tm9-jXKIgLCf"
      },
      "source": [
        "Property 7 verified."
      ]
    },
    {
      "cell_type": "markdown",
      "metadata": {
        "id": "zAGzvZbZgPbp"
      },
      "source": [
        "### Diagonalization of sqaure matrix"
      ]
    },
    {
      "cell_type": "code",
      "metadata": {
        "id": "WNvEeHIXgHlT",
        "outputId": "d8d1bc38-ac00-4a2e-9fb8-e4f2d53c07c3",
        "colab": {
          "base_uri": "https://localhost:8080/",
          "height": 243
        }
      },
      "source": [
        "import numpy as np\n",
        "from math import *\n",
        "A= np.mat([[2,-2,3],[1,1,1],[1,3,-1]])\n",
        "X,P=np.linalg.eig(A)\n",
        "I=np.linalg.inv(P)\n",
        "Z=np.around(I*A*P)\n",
        "for i in range(len(Z)):\n",
        "    for j in range(len(Z)):\n",
        "        if Z[i,j]==-0:\n",
        "            Z[i,j]=0\n",
        "print(\"The final diagonalized matrix is\")\n",
        "print(Z)\n",
        "print()\n",
        "\n",
        "print(\"Eigen vectors\")\n",
        "print(P)\n",
        "print()\n",
        "\n",
        "print(\"Eigen values\")\n",
        "print(X)\n",
        "print()"
      ],
      "execution_count": 24,
      "outputs": [
        {
          "output_type": "stream",
          "text": [
            "The final diagonalized matrix is\n",
            "[[ 3.  0.  0.]\n",
            " [ 0.  1.  0.]\n",
            " [ 0.  0. -2.]]\n",
            "\n",
            "Eigen vectors\n",
            "[[ 0.57735027  0.57735027 -0.61684937]\n",
            " [ 0.57735027 -0.57735027 -0.05607722]\n",
            " [ 0.57735027 -0.57735027  0.78508102]]\n",
            "\n",
            "Eigen values\n",
            "[ 3.  1. -2.]\n",
            "\n"
          ],
          "name": "stdout"
        }
      ]
    },
    {
      "cell_type": "markdown",
      "metadata": {
        "id": "bDwgcesMgzQa"
      },
      "source": [
        "### Cayley-Hamilton Theorem"
      ]
    },
    {
      "cell_type": "code",
      "metadata": {
        "id": "zIrMI5efg1Ie",
        "outputId": "c6ca848a-703d-4c3c-abb0-19c6e7f8aa68",
        "colab": {
          "base_uri": "https://localhost:8080/",
          "height": 399
        }
      },
      "source": [
        "A=np.mat([[2, 3],[4, 5]])\n",
        "from math import *\n",
        "X=np.poly(A)\n",
        "print(\"The co-efficients of the characteristic equation are\",X)\n",
        "\n",
        "trace_A = np.trace(A)\n",
        "det_A = np.linalg.det(A)\n",
        "I = np.eye(len(A))\n",
        "A*A - trace_A * A + det_A * I\n",
        "\n",
        "from sympy import *\n",
        "from math import *\n",
        "from numpy import *\n",
        "print(\"Enter elements of the matrix: \")\n",
        "A=mat(input())\n",
        "s=0\n",
        "print()\n",
        "print(\"The matrix is: \")\n",
        "print(A)\n",
        "print()\n",
        "I=eye(len(A),len(A))\n",
        "print(\"The identity matrix is: \")\n",
        "print(I)\n",
        "print()\n",
        "ce=poly(A)\n",
        "ce=ce.round()\n",
        "print(\"The coefficients of the characteristic equation=\",ce)\n",
        "for i in range (len(ce)):\n",
        "    eq=ce[i]*I*(A**(len(ce)-i))\n",
        "    s=s+eq\n",
        "print()\n",
        "s"
      ],
      "execution_count": 26,
      "outputs": [
        {
          "output_type": "stream",
          "text": [
            "The co-efficients of the characteristic equation are [ 1. -7. -2.]\n",
            "Enter elements of the matrix: \n",
            "1 2 3 4; 3 7 9 2; 1 4 7 8; 1 5 9 2\n",
            "\n",
            "The matrix is: \n",
            "[[1 2 3 4]\n",
            " [3 7 9 2]\n",
            " [1 4 7 8]\n",
            " [1 5 9 2]]\n",
            "\n",
            "The identity matrix is: \n",
            "[[1. 0. 0. 0.]\n",
            " [0. 1. 0. 0.]\n",
            " [0. 0. 1. 0.]\n",
            " [0. 0. 0. 1.]]\n",
            "\n",
            "The coefficients of the characteristic equation= [  1. -17. -38. 116. -32.]\n",
            "\n"
          ],
          "name": "stdout"
        },
        {
          "output_type": "execute_result",
          "data": {
            "text/plain": [
              "matrix([[0., 0., 0., 0.],\n",
              "        [0., 0., 0., 0.],\n",
              "        [0., 0., 0., 0.],\n",
              "        [0., 0., 0., 0.]])"
            ]
          },
          "metadata": {
            "tags": []
          },
          "execution_count": 26
        }
      ]
    },
    {
      "cell_type": "markdown",
      "metadata": {
        "id": "eEa0AL7ohKo_"
      },
      "source": [
        "### Conclusion: \n",
        "The extraction of eigenvalues and eigenvectors of matrices were obtained. The extraction rows and columns in matrix was learnt. We also learnt the propertities of eigen values and eigen vectors, the process of diagonalization of matrix, solving system of equation using Cramer’s rule. The Cayley-Hamilton\n",
        "Theorem was verified in Python in this lab. The extraction of coefficients of the characteristic equation of matrix was learned."
      ]
    },
    {
      "cell_type": "code",
      "metadata": {
        "id": "R3nyFjI7hNgy"
      },
      "source": [
        ""
      ],
      "execution_count": null,
      "outputs": []
    }
  ]
}